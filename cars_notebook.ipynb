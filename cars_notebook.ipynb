{
 "cells": [
  {
   "cell_type": "markdown",
   "id": "adfacbc4",
   "metadata": {},
   "source": [
    "<h1><center>Аналіз реєстру ТЗ від ГСЦ МВС за 2022 рік</center></h1>"
   ]
  },
  {
   "cell_type": "markdown",
   "id": "4bbde487",
   "metadata": {},
   "source": [
    "<h3><center>Набір даних \"Дані щодо транспортних засобів за 2022 рік\" завантажено з <a href=\"https://data.gov.ua/dataset/06779371-308f-42d7-895e-5a39833375f0\">data.gov.ua</a></center></h3>"
   ]
  },
  {
   "cell_type": "markdown",
   "id": "56865c79",
   "metadata": {},
   "source": [
    "#### Імпорти"
   ]
  },
  {
   "cell_type": "code",
   "execution_count": 1,
   "id": "607493e5",
   "metadata": {},
   "outputs": [],
   "source": [
    "import pandas as pd\n",
    "import matplotlib.pyplot as plt\n",
    "import seaborn as sns"
   ]
  },
  {
   "cell_type": "markdown",
   "id": "d19c9a16",
   "metadata": {},
   "source": [
    "#### Константи"
   ]
  },
  {
   "cell_type": "code",
   "execution_count": 2,
   "id": "94b18c9c",
   "metadata": {},
   "outputs": [],
   "source": [
    "CURRENT_YEAR = 2023\n",
    "\n",
    "REESTR_PATH = \"datasets/tz_opendata_z01012022_po01012023.csv\"\n",
    "LP_OLD_PATH = \"datasets/old_license_plates.csv\"\n",
    "LP_NEW_PATH = \"datasets/new_license_plates.csv\"\n",
    "\n",
    "NEW_CARS_PATH = \"datasets/new_cars.csv\"\n",
    "USED_FOREIGN_CARS_PATH = \"datasets/used_foreign_cars.csv\"\n",
    "USED_CARS_PATH = \"datasets/used_cars.csv\""
   ]
  },
  {
   "cell_type": "markdown",
   "id": "50df8b9c",
   "metadata": {},
   "source": [
    "## <center>1. Підготовка даних</center>"
   ]
  },
  {
   "cell_type": "markdown",
   "id": "6e94a15e",
   "metadata": {},
   "source": [
    "#### 1.1 Завантаження даних"
   ]
  },
  {
   "cell_type": "code",
   "execution_count": 3,
   "id": "3100ab2a",
   "metadata": {
    "scrolled": true
   },
   "outputs": [],
   "source": [
    "# Читання значень лише з обраних стовпчиків\n",
    "cols = [\"BRAND\", \n",
    "        \"MODEL\",\n",
    "        \"OPER_NAME\",\n",
    "        \"OPER_CODE\",\n",
    "        \"VIN\", \n",
    "        \"MAKE_YEAR\",\n",
    "        \"COLOR\", \n",
    "        \"KIND\", \n",
    "        \"BODY\", \n",
    "        \"FUEL\", \n",
    "        \"CAPACITY\",\n",
    "        \"N_REG_NEW\"]\n",
    "\n",
    "df = pd.read_csv(REESTR_PATH, \n",
    "                 sep=\";\", \n",
    "                 low_memory=False, \n",
    "                 on_bad_lines=\"skip\",\n",
    "                 usecols=cols)"
   ]
  },
  {
   "cell_type": "markdown",
   "id": "2b3b4d06",
   "metadata": {},
   "source": [
    "#### 1.2 Очищення даних"
   ]
  },
  {
   "cell_type": "code",
   "execution_count": 4,
   "id": "16f76850",
   "metadata": {},
   "outputs": [],
   "source": [
    "# Обрання записів про опреції, що пов'язані з купівлею-продажем ТЗ\n",
    "df = df[df[\"OPER_CODE\"].isin([315, 308, 71, 70, 100, 105])]\n",
    "\n",
    "# Обрання записів лише про легкові авто\n",
    "df = df[df[\"KIND\"] == \"ЛЕГКОВИЙ\"]\n",
    "\n",
    "# Видалення рядків з неповними даними\n",
    "df = df.dropna()\n",
    "\n",
    "# Видалення дублікатів\n",
    "df = df.drop_duplicates()"
   ]
  },
  {
   "cell_type": "markdown",
   "id": "b8360c1c",
   "metadata": {},
   "source": [
    "#### 1.3 Доповнення даних"
   ]
  },
  {
   "cell_type": "markdown",
   "id": "af83445b",
   "metadata": {},
   "source": [
    "Визначення класу ТЗ:"
   ]
  },
  {
   "cell_type": "code",
   "execution_count": 5,
   "id": "017a898d",
   "metadata": {},
   "outputs": [],
   "source": [
    "def get_class(row):\n",
    "    if row[\"CAPACITY\"] < 1200:\n",
    "        return \"A\"\n",
    "    elif 1200 <= row[\"CAPACITY\"] < 1800:\n",
    "        return \"B\"\n",
    "    elif 1800 <= row[\"CAPACITY\"] < 3500:\n",
    "        return \"C\"\n",
    "    else:\n",
    "        return \"D\"\n",
    "\n",
    "df[\"CLASS\"] = df.apply(get_class, axis=1)"
   ]
  },
  {
   "cell_type": "markdown",
   "id": "5923328b",
   "metadata": {},
   "source": [
    "Визначення області, у якій зареєстровано ТЗ:"
   ]
  },
  {
   "cell_type": "code",
   "execution_count": 6,
   "id": "445aa1ff",
   "metadata": {},
   "outputs": [],
   "source": [
    "# Виокремлення коду з номерного знаку\n",
    "def get_code(row):\n",
    "    return row[\"N_REG_NEW\"][:2]\n",
    "\n",
    "df[\"CODE\"] = df.apply(get_code, axis=1)\n",
    "\n",
    "# Відповідність між кодом та областю України\n",
    "lp_old = pd.read_csv(LP_OLD_PATH)\n",
    "lp_new = pd.read_csv(LP_NEW_PATH)\n",
    "lp = pd.concat([lp_old, lp_new])\n",
    "\n",
    "# Об'єднання\n",
    "df = df.merge(lp, on=\"CODE\", how=\"left\")\n",
    "\n",
    "# Характеристика для авто з іноземними номерами\n",
    "df[\"DISTRICT\"] = df[\"DISTRICT\"].fillna(\"ІНША КРАЇНА\")\n",
    "\n",
    "# Видалення ствопчика з кодом\n",
    "df = df.drop(\"CODE\", axis=1)"
   ]
  },
  {
   "cell_type": "markdown",
   "id": "d9fb119b",
   "metadata": {},
   "source": [
    "#### 1.4 Збереження обробленого набору даних у файл"
   ]
  },
  {
   "cell_type": "markdown",
   "id": "0ceed6f1",
   "metadata": {},
   "source": [
    "Всі авто, над якими здійснювали операцію реєстрації (а отже і купівлі-продажу):"
   ]
  },
  {
   "cell_type": "code",
   "execution_count": 7,
   "id": "87e373f8",
   "metadata": {},
   "outputs": [],
   "source": [
    "purchased_cars = df[df[\"OPER_CODE\"].isin([315, 308])].drop([\"OPER_CODE\", \"OPER_NAME\"], axis=1)"
   ]
  },
  {
   "cell_type": "markdown",
   "id": "2c297db9",
   "metadata": {},
   "source": [
    "Нові авто, які завезли з-за кордону в автосалони:"
   ]
  },
  {
   "cell_type": "code",
   "execution_count": 8,
   "id": "5c44cb11",
   "metadata": {},
   "outputs": [],
   "source": [
    "new_cars = df[df[\"OPER_CODE\"] == 105].drop([\"OPER_CODE\", \"OPER_NAME\"], axis=1)\n",
    "new_cars.to_csv(NEW_CARS_PATH, index=False)"
   ]
  },
  {
   "cell_type": "markdown",
   "id": "8ede2684",
   "metadata": {},
   "source": [
    "Привезені з-за кордону вживані авто:"
   ]
  },
  {
   "cell_type": "code",
   "execution_count": 9,
   "id": "53dc70ed",
   "metadata": {},
   "outputs": [],
   "source": [
    "used_foreign_cars = df[df[\"OPER_CODE\"].isin([70, 71, 100])].drop([\"OPER_CODE\", \"OPER_NAME\"], axis=1)\n",
    "used_foreign_cars.to_csv(USED_FOREIGN_CARS_PATH, index=False)"
   ]
  },
  {
   "cell_type": "markdown",
   "id": "ccfa0e78",
   "metadata": {},
   "source": [
    "Всі авто, які ввезено з-за кордону:"
   ]
  },
  {
   "cell_type": "code",
   "execution_count": 10,
   "id": "29a0f1b4",
   "metadata": {},
   "outputs": [],
   "source": [
    "foreign_cars = pd.concat([new_cars, used_foreign_cars])"
   ]
  },
  {
   "cell_type": "markdown",
   "id": "cf7d6963",
   "metadata": {},
   "source": [
    "Вживані авто в Україні:"
   ]
  },
  {
   "cell_type": "code",
   "execution_count": 11,
   "id": "26c6cfd6",
   "metadata": {},
   "outputs": [],
   "source": [
    "used_cars = purchased_cars[~purchased_cars[\"VIN\"].isin(foreign_cars[\"VIN\"])]\n",
    "used_cars.to_csv(USED_CARS_PATH, index=False)"
   ]
  },
  {
   "cell_type": "markdown",
   "id": "82cde28a",
   "metadata": {},
   "source": [
    "## <center>2. Аналіз даних</center>"
   ]
  },
  {
   "cell_type": "markdown",
   "id": "4cc0925c",
   "metadata": {},
   "source": [
    "#### 2.1 Завантаження оброблених даних"
   ]
  },
  {
   "cell_type": "code",
   "execution_count": 12,
   "id": "8c41f766",
   "metadata": {},
   "outputs": [],
   "source": [
    "new_cars = pd.read_csv(NEW_CARS_PATH)\n",
    "used_cars = pd.read_csv(USED_CARS_PATH)\n",
    "used_foreign_cars = pd.read_csv(USED_FOREIGN_CARS_PATH)\n",
    "\n",
    "# Всі авто\n",
    "all_cars = pd.concat([new_cars, used_foreign_cars, used_cars])"
   ]
  },
  {
   "cell_type": "markdown",
   "id": "0fcb7bdb",
   "metadata": {},
   "source": [
    "#### 2.2 Структура ринку автомобілів"
   ]
  },
  {
   "cell_type": "code",
   "execution_count": 13,
   "id": "564ca9fe",
   "metadata": {},
   "outputs": [
    {
     "data": {
      "image/png": "[encoded data removed]",
      "text/plain": [
       "<Figure size 640x480 with 1 Axes>"
      ]
     },
     "metadata": {},
     "output_type": "display_data"
    }
   ],
   "source": [
    "# Дані для діаграми\n",
    "new_cars_quantity = new_cars.shape[0]\n",
    "used_cars_quantity = used_cars.shape[0]\n",
    "used_foreign_cars_quantity = used_foreign_cars.shape[0]\n",
    "\n",
    "data = [new_cars_quantity, used_cars_quantity, used_foreign_cars_quantity]\n",
    "\n",
    "# Підписи на діаграмі\n",
    "labels = [\"Нові авто\", \"Вживані авто\", \"Ввезені авто\"]\n",
    "\n",
    "# Кольори для діаграми\n",
    "colors = sns.color_palette('pastel')[0:5]\n",
    "\n",
    "# PIE CHART\n",
    "plt.pie(data, labels=labels, colors=colors, autopct='%.0f%%')\n",
    "plt.savefig(\"diagrams/market.png\")"
   ]
  },
  {
   "cell_type": "markdown",
   "id": "52d8abdd",
   "metadata": {},
   "source": [
    "#### 2.3 Поширеність класів автомобілів"
   ]
  },
  {
   "cell_type": "code",
   "execution_count": 14,
   "id": "40686748",
   "metadata": {},
   "outputs": [
    {
     "data": {
      "image/png": "[encoded data removed]",
      "text/plain": [
       "<Figure size 640x480 with 1 Axes>"
      ]
     },
     "metadata": {},
     "output_type": "display_data"
    }
   ],
   "source": [
    "data = all_cars.groupby(\"CLASS\")[\"VIN\"].count().sort_values(ascending=False).reset_index().rename(columns={\"VIN\": \"COUNT\"})\n",
    "\n",
    "# Кольори діаграми\n",
    "colors = sns.color_palette('pastel')[0:5]\n",
    "\n",
    "# PIE CHART\n",
    "plt.pie(data[\"COUNT\"], labels=data[\"CLASS\"], colors=colors, autopct='%.0f%%')\n",
    "plt.savefig(\"diagrams/classes.png\")"
   ]
  },
  {
   "cell_type": "markdown",
   "id": "5d1ed80b",
   "metadata": {},
   "source": [
    "#### 2.4 ТОП-10 моделей авто, які купували в автосалонах"
   ]
  },
  {
   "cell_type": "code",
   "execution_count": 15,
   "id": "00de33cc",
   "metadata": {},
   "outputs": [
    {
     "data": {
      "text/plain": [
       "BRAND       MODEL                 \n",
       "RENAULT     DUSTER                    1857\n",
       "TOYOTA      RAV4                      1523\n",
       "            RAV-4 HYBRID               961\n",
       "            LAND CRUISER PRADO 150     903\n",
       "HYUNDAI     TUCSON                     834\n",
       "CHERY       TIGGO 4                    714\n",
       "MITSUBISHI  OUTLANDER                  687\n",
       "KIA         SPORTAGE                   614\n",
       "TOYOTA      CAMRY                      581\n",
       "BMW         X5                         576\n",
       "Name: VIN, dtype: int64"
      ]
     },
     "execution_count": 15,
     "metadata": {},
     "output_type": "execute_result"
    }
   ],
   "source": [
    "new_cars.groupby([\"BRAND\", \"MODEL\"])[\"VIN\"].count().sort_values(ascending=False).head(10)"
   ]
  },
  {
   "cell_type": "markdown",
   "id": "9081ca38",
   "metadata": {},
   "source": [
    "#### 2.5 ТОП-10 моделей авто, які купували на вторинному ринку"
   ]
  },
  {
   "cell_type": "code",
   "execution_count": 16,
   "id": "e513d012",
   "metadata": {},
   "outputs": [
    {
     "data": {
      "text/plain": [
       "BRAND       MODEL  \n",
       "VOLKSWAGEN  PASSAT     19123\n",
       "DAEWOO      LANOS      12720\n",
       "VOLKSWAGEN  GOLF       11989\n",
       "SKODA       OCTAVIA    11120\n",
       "CHEVROLET   AVEO        8613\n",
       "RENAULT     MEGANE      8450\n",
       "FORD        FOCUS       8439\n",
       "TOYOTA      CAMRY       8177\n",
       "SKODA       FABIA       8063\n",
       "OPEL        ASTRA       6553\n",
       "Name: VIN, dtype: int64"
      ]
     },
     "execution_count": 16,
     "metadata": {},
     "output_type": "execute_result"
    }
   ],
   "source": [
    "used_cars.groupby([\"BRAND\", \"MODEL\"])[\"VIN\"].count().sort_values(ascending=False).head(10)"
   ]
  },
  {
   "cell_type": "markdown",
   "id": "7a65fb43",
   "metadata": {},
   "source": [
    "Середній вік придбаних на вторинному ринку ТЗ:"
   ]
  },
  {
   "cell_type": "code",
   "execution_count": 17,
   "id": "840f38f9",
   "metadata": {},
   "outputs": [
    {
     "name": "stdout",
     "output_type": "stream",
     "text": [
      "Середній вік придбаних на вторинному ринку ТЗ:  15.41 років\n"
     ]
    }
   ],
   "source": [
    "mean_year = used_cars[\"MAKE_YEAR\"].mean()\n",
    "mean_age = CURRENT_YEAR - mean_year\n",
    "\n",
    "print(f\"Середній вік придбаних на вторинному ринку ТЗ: {mean_age: .2f} років\")"
   ]
  },
  {
   "cell_type": "markdown",
   "id": "190b5960",
   "metadata": {},
   "source": [
    "#### 2.6 ТОП-10 моделей авто, які ввозили з-за кордону"
   ]
  },
  {
   "cell_type": "code",
   "execution_count": 18,
   "id": "c4d9cb5e",
   "metadata": {},
   "outputs": [
    {
     "data": {
      "text/plain": [
       "BRAND       MODEL        \n",
       "VOLKSWAGEN  PASSAT           22395\n",
       "            GOLF             20695\n",
       "SKODA       OCTAVIA          15115\n",
       "RENAULT     MEGANE           12585\n",
       "FORD        FOCUS             9791\n",
       "RENAULT     MEGANE SCENIC     9081\n",
       "VOLKSWAGEN  TOURAN            9077\n",
       "OPEL        ZAFIRA            8425\n",
       "AUDI        A4                8304\n",
       "OPEL        ASTRA             7172\n",
       "Name: VIN, dtype: int64"
      ]
     },
     "execution_count": 18,
     "metadata": {},
     "output_type": "execute_result"
    }
   ],
   "source": [
    "used_foreign_cars.groupby([\"BRAND\", \"MODEL\"])[\"VIN\"].count().sort_values(ascending=False).head(10)"
   ]
  },
  {
   "cell_type": "markdown",
   "id": "3a356279",
   "metadata": {},
   "source": [
    "Середній вік ввезених авто:"
   ]
  },
  {
   "cell_type": "code",
   "execution_count": 19,
   "id": "aca5f259",
   "metadata": {},
   "outputs": [
    {
     "name": "stdout",
     "output_type": "stream",
     "text": [
      "Середній вік ввезених ТЗ:  13.89 років\n"
     ]
    }
   ],
   "source": [
    "mean_year = used_foreign_cars[\"MAKE_YEAR\"].mean()\n",
    "mean_age = CURRENT_YEAR - mean_year\n",
    "\n",
    "print(f\"Середній вік ввезених ТЗ: {mean_age: .2f} років\")"
   ]
  },
  {
   "cell_type": "markdown",
   "id": "39e1b110",
   "metadata": {},
   "source": [
    "#### 2.7 Топ-10 моделей пікапів"
   ]
  },
  {
   "cell_type": "code",
   "execution_count": 20,
   "id": "d13ec787",
   "metadata": {},
   "outputs": [
    {
     "data": {
      "text/plain": [
       "BRAND       MODEL   \n",
       "MITSUBISHI  L 200       522\n",
       "NISSAN      NAVARA      258\n",
       "FORD        RANGER      120\n",
       "            F 150       120\n",
       "TOYOTA      HILUX        94\n",
       "ЗАЗ         110557       75\n",
       "TOYOTA      TUNDRA       54\n",
       "VOLKSWAGEN  AMAROK       34\n",
       "DODGE       RAM-1500     29\n",
       "RAM         1500         28\n",
       "Name: VIN, dtype: int64"
      ]
     },
     "execution_count": 20,
     "metadata": {},
     "output_type": "execute_result"
    }
   ],
   "source": [
    "pickup_trucks = all_cars[all_cars[\"BODY\"] == \"ПІКАП\"]\n",
    "pickup_trucks.groupby([\"BRAND\", \"MODEL\"])[\"VIN\"].count().sort_values(ascending=False).head(10)"
   ]
  },
  {
   "cell_type": "markdown",
   "id": "d940e5a0",
   "metadata": {},
   "source": [
    "#### 2.8 Топ-10 екологічних авто"
   ]
  },
  {
   "cell_type": "code",
   "execution_count": 21,
   "id": "33229eb1",
   "metadata": {},
   "outputs": [
    {
     "data": {
      "text/plain": [
       "BRAND      MODEL            \n",
       "TOYOTA     RAV-4 HYBRID         1580\n",
       "           PRIUS                1222\n",
       "FORD       FUSION               1064\n",
       "TOYOTA     CAMRY                1008\n",
       "CHEVROLET  VOLT                  780\n",
       "FORD       C-MAX                 646\n",
       "TOYOTA     RAV4                  601\n",
       "HYUNDAI    SONATA                433\n",
       "VOLVO      XC90                  419\n",
       "TOYOTA     HIGHLANDER HYBRID     408\n",
       "Name: VIN, dtype: int64"
      ]
     },
     "execution_count": 21,
     "metadata": {},
     "output_type": "execute_result"
    }
   ],
   "source": [
    "eco_cars = all_cars[all_cars[\"FUEL\"].isin([\"ЕЛЕКТРО АБО БЕНЗИН\", \n",
    "                                          \"ЕЛЕКТРО АБО ДИЗЕЛЬНЕ ПАЛИВО\", \n",
    "                                          \"БЕНЗИН, ГАЗ АБО ЕЛЕКТРО\", \n",
    "                                          \"ЕЛЕКТРО\", \n",
    "                                          \"ГАЗ ТА ЕЛЕКТРО\"])]\n",
    "\n",
    "eco_cars.groupby([\"BRAND\", \"MODEL\"])[\"VIN\"].count().sort_values(ascending=False).head(10)"
   ]
  },
  {
   "cell_type": "markdown",
   "id": "92695427",
   "metadata": {},
   "source": [
    "#### 2.9 ТОП-10 люксових моделей авто"
   ]
  },
  {
   "cell_type": "code",
   "execution_count": 22,
   "id": "337ef7ca",
   "metadata": {},
   "outputs": [
    {
     "data": {
      "text/plain": [
       "BRAND       MODEL                 \n",
       "TOYOTA      LAND CRUISER 200          1663\n",
       "            LAND CRUISER PRADO 150     989\n",
       "PORSCHE     CAYENNE                    953\n",
       "LAND ROVER  RANGE ROVER                950\n",
       "TOYOTA      LAND CRUISER               845\n",
       "DODGE       JOURNEY                    801\n",
       "JEEP        GRAND CHEROKEE             798\n",
       "VOLKSWAGEN  TOUAREG                    581\n",
       "BMW         X5                         574\n",
       "LEXUS       LX 570                     523\n",
       "Name: VIN, dtype: int64"
      ]
     },
     "execution_count": 22,
     "metadata": {},
     "output_type": "execute_result"
    }
   ],
   "source": [
    "luxury_cars = all_cars[all_cars[\"CLASS\"] == \"D\"]\n",
    "luxury_cars.groupby([\"BRAND\", \"MODEL\"])[\"VIN\"].count().sort_values(ascending=False).head(10)"
   ]
  },
  {
   "cell_type": "markdown",
   "id": "ac8c3748",
   "metadata": {},
   "source": [
    "#### 2.10 Машини якого кольору найчастіше купували?"
   ]
  },
  {
   "cell_type": "code",
   "execution_count": 23,
   "id": "79c2d9d3",
   "metadata": {},
   "outputs": [
    {
     "data": {
      "text/plain": [
       "COLOR\n",
       "СІРИЙ    352091\n",
       "Name: VIN, dtype: int64"
      ]
     },
     "execution_count": 23,
     "metadata": {},
     "output_type": "execute_result"
    }
   ],
   "source": [
    "all_cars.groupby(\"COLOR\")[\"VIN\"].count().sort_values(ascending=False).head(1)"
   ]
  },
  {
   "cell_type": "markdown",
   "id": "00c375ad",
   "metadata": {},
   "source": [
    "#### 2.11 Машини з яким типом кузова найчастіше купували?"
   ]
  },
  {
   "cell_type": "code",
   "execution_count": 24,
   "id": "1b2ae656",
   "metadata": {},
   "outputs": [
    {
     "data": {
      "text/plain": [
       "BODY\n",
       "УНІВЕРСАЛ    482815\n",
       "Name: VIN, dtype: int64"
      ]
     },
     "execution_count": 24,
     "metadata": {},
     "output_type": "execute_result"
    }
   ],
   "source": [
    "all_cars.groupby(\"BODY\")[\"VIN\"].count().sort_values(ascending=False).head(1)"
   ]
  },
  {
   "cell_type": "markdown",
   "id": "83f3f099",
   "metadata": {},
   "source": [
    "#### 2.12 Машини з яким типом пального найчастіше купували?"
   ]
  },
  {
   "cell_type": "code",
   "execution_count": 25,
   "id": "2e7e5218",
   "metadata": {},
   "outputs": [
    {
     "data": {
      "text/plain": [
       "FUEL\n",
       "БЕНЗИН    434909\n",
       "Name: VIN, dtype: int64"
      ]
     },
     "execution_count": 25,
     "metadata": {},
     "output_type": "execute_result"
    }
   ],
   "source": [
    "all_cars.groupby(\"FUEL\")[\"VIN\"].count().sort_values(ascending=False).head(1)"
   ]
  },
  {
   "cell_type": "markdown",
   "id": "0c2b7005",
   "metadata": {},
   "source": [
    "#### 2.13 Машини якого бренду купували найчастіше?"
   ]
  },
  {
   "cell_type": "code",
   "execution_count": 26,
   "id": "1c75462e",
   "metadata": {},
   "outputs": [
    {
     "data": {
      "text/plain": [
       "BRAND\n",
       "VOLKSWAGEN    141622\n",
       "RENAULT        68945\n",
       "SKODA          56831\n",
       "Name: VIN, dtype: int64"
      ]
     },
     "execution_count": 26,
     "metadata": {},
     "output_type": "execute_result"
    }
   ],
   "source": [
    "all_cars.groupby(\"BRAND\")[\"VIN\"].count().sort_values(ascending=False).head(3)"
   ]
  },
  {
   "cell_type": "markdown",
   "id": "9f9081f4",
   "metadata": {},
   "source": [
    "#### 2.14 В яких областях України найбільш активно реєстрували ТЗ?"
   ]
  },
  {
   "cell_type": "code",
   "execution_count": 27,
   "id": "2de11e2d",
   "metadata": {},
   "outputs": [
    {
     "data": {
      "text/plain": [
       "DISTRICT\n",
       "КИЇВ                 138048\n",
       "ЛЬВІВСЬКА             98040\n",
       "ДНІПРОПЕТРОВСЬКА      79540\n",
       "ОДЕСЬКА               63567\n",
       "КИЇВСЬКА              56832\n",
       "ВІННИЦЬКА             48948\n",
       "РІВНЕНСЬКА            46070\n",
       "ІВАНО-ФРАНКІВСЬКА     44222\n",
       "ВОЛИНСЬКА             43158\n",
       "ЗАКАРПАТСЬКА          39636\n",
       "Name: VIN, dtype: int64"
      ]
     },
     "execution_count": 27,
     "metadata": {},
     "output_type": "execute_result"
    }
   ],
   "source": [
    "all_cars.groupby(\"DISTRICT\")[\"VIN\"].count().sort_values(ascending=False).head(10)"
   ]
  }
 ],
 "metadata": {
  "kernelspec": {
   "display_name": "Python 3 (ipykernel)",
   "language": "python",
   "name": "python3"
  },
  "language_info": {
   "codemirror_mode": {
    "name": "ipython",
    "version": 3
   },
   "file_extension": ".py",
   "mimetype": "text/x-python",
   "name": "python",
   "nbconvert_exporter": "python",
   "pygments_lexer": "ipython3",
   "version": "3.10.0"
  },
  "varInspector": {
   "cols": {
    "lenName": 16,
    "lenType": 16,
    "lenVar": 40
   },
   "kernels_config": {
    "python": {
     "delete_cmd_postfix": "",
     "delete_cmd_prefix": "del ",
     "library": "var_list.py",
     "varRefreshCmd": "print(var_dic_list())"
    },
    "r": {
     "delete_cmd_postfix": ") ",
     "delete_cmd_prefix": "rm(",
     "library": "var_list.r",
     "varRefreshCmd": "cat(var_dic_list()) "
    }
   },
   "types_to_exclude": [
    "module",
    "function",
    "builtin_function_or_method",
    "instance",
    "_Feature"
   ],
   "window_display": false
  }
 },
 "nbformat": 4,
 "nbformat_minor": 5
}
